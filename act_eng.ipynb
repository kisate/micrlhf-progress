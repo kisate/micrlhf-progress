{
 "cells": [
  {
   "cell_type": "code",
   "execution_count": 1,
   "metadata": {},
   "outputs": [],
   "source": [
    "%load_ext autoreload\n",
    "%autoreload 2\n",
    "import penzai\n",
    "from penzai import pz\n",
    "pz.ts.register_as_default()\n",
    "pz.ts.register_autovisualize_magic()\n",
    "pz.enable_interactive_context()"
   ]
  },
  {
   "cell_type": "code",
   "execution_count": 2,
   "metadata": {},
   "outputs": [
    {
     "name": "stderr",
     "output_type": "stream",
     "text": [
      "/home/neverix/.pyenv/versions/3.12.3/lib/python3.12/pty.py:95: RuntimeWarning: os.fork() was called. os.fork() is incompatible with multithreaded code, and JAX is multithreaded, so this will likely lead to a deadlock.\n",
      "  pid, fd = os.forkpty()\n"
     ]
    },
    {
     "name": "stdout",
     "output_type": "stream",
     "text": [
      "--2024-05-14 09:08:00--  https://raw.githubusercontent.com/llm-attacks/llm-attacks/main/data/advbench/harmful_behaviors.csv\n",
      "Resolving raw.githubusercontent.com (raw.githubusercontent.com)... 185.199.108.133, 185.199.109.133, 185.199.110.133, ...\n",
      "Connecting to raw.githubusercontent.com (raw.githubusercontent.com)|185.199.108.133|:443... connected.\n",
      "HTTP request sent, awaiting response... 416 Range Not Satisfiable\n",
      "\n",
      "    The file is already fully retrieved; nothing to do.\n",
      "\n"
     ]
    },
    {
     "name": "stderr",
     "output_type": "stream",
     "text": [
      "/home/neverix/.cache/pypoetry/virtualenvs/micrlhf-progress-a058ydGG-py3.12/lib/python3.12/site-packages/tqdm/auto.py:21: TqdmWarning: IProgress not found. Please update jupyter and ipywidgets. See https://ipywidgets.readthedocs.io/en/stable/user_install.html\n",
      "  from .autonotebook import tqdm as notebook_tqdm\n"
     ]
    }
   ],
   "source": [
    "!mkdir -p data\n",
    "!wget -c https://raw.githubusercontent.com/llm-attacks/llm-attacks/main/data/advbench/harmful_behaviors.csv -O data/adv.csv\n",
    "import pandas as pd\n",
    "df = pd.read_csv(\"data/adv.csv\")\n",
    "format_prompt = \"\"\"<|user|>\n",
    "{}<|end|>\n",
    "<|assistant|>\n",
    "{}\"\"\"\n",
    "# df_do = df.apply(lambda x: format_response.format(x['goal'], x['target']), axis=1)\n",
    "prompts_harmful = df.apply(lambda x: format_prompt.format(x['goal'], \"\"), axis=1).to_list()[:100]\n",
    "import datasets\n",
    "ds = datasets.load_dataset(\"MBZUAI/LaMini-instruction\", split=\"train\", streaming=True)\n",
    "prompts_harmless = []\n",
    "for _, text in zip(range(100), ds):\n",
    "    prompts_harmless.append(format_prompt.format(text[\"instruction\"], \"\"))\n",
    "# ds = datasets.load_dataset(\"nev/openhermes-2.5-phi-format-text\", split=\"train\", streaming=True)\n",
    "# prompts_harmless = []\n",
    "# for _, text in zip(range(100), ds):\n",
    "#     text = text[\"text\"]\n",
    "#     text = \"\".join(text.partition(\"<|assistant|>\\n\")[:2])\n",
    "#     prompts_harmless.append(text)"
   ]
  },
  {
   "cell_type": "code",
   "execution_count": 3,
   "metadata": {},
   "outputs": [],
   "source": [
    "filename = \"models/phi-3-16.gguf\"\n",
    "from micrlhf.llama import LlamaTransformer\n",
    "llama = LlamaTransformer.from_pretrained(filename, device_map=\"auto\")"
   ]
  },
  {
   "cell_type": "code",
   "execution_count": 5,
   "metadata": {},
   "outputs": [
    {
     "name": "stderr",
     "output_type": "stream",
     "text": [
      "/home/neverix/.cache/pypoetry/virtualenvs/micrlhf-progress-a058ydGG-py3.12/lib/python3.12/site-packages/huggingface_hub/file_download.py:1132: FutureWarning: `resume_download` is deprecated and will be removed in version 1.0.0. Downloads always resume when possible. If you want to force a new download, use `force_download=True`.\n",
      "  warnings.warn(\n",
      "Special tokens have been added in the vocabulary, make sure the associated word embeddings are fine-tuned or trained.\n"
     ]
    }
   ],
   "source": [
    "from micrlhf.sampling import sample, trange, jnp, load_tokenizer, jit_wrapper\n",
    "from transformers import AutoTokenizer\n",
    "import jax\n",
    "# tokenizer = load_tokenizer(filename)\n",
    "tokenizer = AutoTokenizer.from_pretrained(\"microsoft/Phi-3-mini-4k-instruct\")\n",
    "# prompt = \"\"\"<s><|user|>How to explain Internet for a medieval knight?<|end|><|assistant|>It\"\"\"\n",
    "# prompt = \"\"\"<|begin_of_text|><|start_header_id|>user<|end_header_id|>Hello!<|eot_id|><|start_header_id|>assistant<|end_header_id|>Hi,\"\"\"\n",
    "prompt = \"<|system|>You are an assistant.</s><|user|>Hello!</s><|assistant|>Hi,\"\n",
    "# prompt = \"<|user|>\"\n",
    "tokens = tokenizer.batch_encode_plus(prompts_harmful + prompts_harmless,\n",
    "                                     return_tensors=\"np\",\n",
    "                                     padding=\"max_length\",\n",
    "                                     truncation=True,\n",
    "                                     max_length=128,\n",
    "                                     return_attention_mask=True)\n",
    "token_array = jnp.asarray(tokens[\"input_ids\"])\n",
    "token_array = jax.device_put(token_array, jax.sharding.NamedSharding(llama.mesh, jax.sharding.PartitionSpec(\"dp\", \"sp\")))\n",
    "token_array = pz.nx.wrap(token_array, \"batch\", \"seq\").untag(\"batch\").tag(\"batch\")\n",
    "inputs = llama.inputs.from_basic_segments(token_array)"
   ]
  },
  {
   "cell_type": "code",
   "execution_count": 6,
   "metadata": {},
   "outputs": [],
   "source": [
    "from micrlhf.llama import LlamaBlock\n",
    "from micrlhf.flash import flashify\n",
    "from micrlhf.sampling import sample, trange, jnp, load_tokenizer, jit_wrapper\n",
    "get_resids = llama.select().at_instances_of(LlamaBlock).apply_with_selected_index(lambda i, x:\n",
    "    pz.nn.Sequential([\n",
    "        pz.de.TellIntermediate.from_config(tag=f\"resid_pre_{i}\"),\n",
    "        x\n",
    "    ])\n",
    ")\n",
    "get_resids = pz.de.CollectingSideOutputs.handling(get_resids, tag_predicate=lambda x: x.startswith(\"resid_pre\"))\n",
    "get_resids_call = jit_wrapper.Jitted(get_resids)"
   ]
  },
  {
   "cell_type": "code",
   "execution_count": 8,
   "metadata": {},
   "outputs": [],
   "source": [
    "_, resids = get_resids_call(inputs)"
   ]
  },
  {
   "cell_type": "code",
   "execution_count": null,
   "metadata": {},
   "outputs": [],
   "source": [
    "# from matplotlib import pyplot as plt\n",
    "# import numpy as np\n",
    "# lines = []\n",
    "# for i, resid in enumerate(sorted(resids, key=lambda x: int(x.tag.rpartition(\"_\")[-1]))):\n",
    "#     resid = resid.value.unwrap(\"batch\", \"seq\", \"embedding\")\n",
    "#     indices = jnp.asarray(tokens[\"attention_mask\"].sum(1, keepdims=True))[..., None] - 1\n",
    "#     last_resid = jnp.take_along_axis(resid, indices, 1)[:, 0]\n",
    "#     last_resid = last_resid - last_resid.mean(0)\n",
    "#     # last_resid = jax.random.normal(key=jax.random.key(0), shape=(last_resid.shape[-1],))[None, :].repeat(len(last_resid), 0)\n",
    "#     u, _, _ = jnp.linalg.svd(last_resid, full_matrices=False)\n",
    "#     display(pz.ts.render_array(u[::5, :10]))\n",
    "#     lines.append(u[:, 0])\n",
    "# for i, line in list(enumerate(lines))[::4]:\n",
    "#     plt.plot(line, label=str(i))\n",
    "# plt.legend()\n",
    "# plt.show()"
   ]
  },
  {
   "cell_type": "code",
   "execution_count": 9,
   "metadata": {},
   "outputs": [
    {
     "data": {
      "image/png": "[encoded data removed]",
      "text/plain": [
       "<Figure size 640x480 with 2 Axes>"
      ]
     },
     "metadata": {},
     "output_type": "display_data"
    }
   ],
   "source": [
    "from matplotlib import pyplot as plt\n",
    "import numpy as np\n",
    "residiffs = []\n",
    "for i, resid in enumerate(sorted(resids, key=lambda x: int(x.tag.rpartition(\"_\")[-1]))):\n",
    "    resid = resid.value.unwrap(\"batch\", \"seq\", \"embedding\")\n",
    "    indices = jnp.asarray(tokens[\"attention_mask\"].sum(1, keepdims=True))[..., None] - 1\n",
    "    last_resid = jnp.take_along_axis(resid, indices, 1)[:, 0]\n",
    "    last_resid = last_resid.reshape(2, -1, last_resid.shape[-1]).mean(1)\n",
    "    residiff = np.array(last_resid[0] - last_resid[1])\n",
    "    residiffs.append(residiff)\n",
    "matmuls = np.matmul(residiffs, np.transpose(residiffs))\n",
    "norms = np.linalg.norm(residiffs, axis=-1) + 1e-10\n",
    "plt.title(\"Correlations between layers' refusal vectors\")\n",
    "plt.imshow(matmuls / norms[:, None] / norms[None, :], vmin=0, vmax=1)\n",
    "plt.colorbar()\n",
    "plt.show()"
   ]
  },
  {
   "cell_type": "code",
   "execution_count": 10,
   "metadata": {},
   "outputs": [
    {
     "name": "stderr",
     "output_type": "stream",
     "text": [
      "100%|██████████| 64/64 [00:37<00:00,  1.71it/s]\n"
     ]
    },
    {
     "data": {
      "text/html": [
       "<div id=\"output_de043caceaf34f9f8cf62c1ca835951b\"><script> /* penzai.treescope rendering of a Python object (compressed) */ (()=>{ let observer; let lastStep = new Promise((resolve, reject) => { observer = new IntersectionObserver((entries) => { for (const entry of entries) { if (entry.isIntersecting) { resolve(); observer.disconnect(); return; } } }, {rootMargin: \"1000px\"}); }); window.treescope_decompress_enqueue = (encoded, destId) => { const previous = lastStep; const destElt = document.getElementById(destId); lastStep = (async () => { await previous; let blob = new Blob([ Uint8Array.from(atob(encoded), (m) => m.codePointAt(0)) ]); let reader = blob.stream().pipeThrough( new DecompressionStream(\"deflate\") ).pipeThrough( new TextDecoderStream(\"utf-8\") ).getReader(); let parts = []; while (true) { let step = await reader.read(); if (step.done) { break; } parts.push(step.value); } let newElt = document.createElement(\"div\"); newElt.innerHTML = parts.join(\"\"); destElt.parentNode.replaceChild(newElt, destElt); for (let oldScript of newElt.querySelectorAll(\"script\")) { let newScript = document.createElement(\"script\"); newScript.type = oldScript.type; newScript.textContent = oldScript.textContent; oldScript.parentNode.replaceChild(newScript, oldScript); } })(); requestAnimationFrame(() => { observer.observe(destElt); }); } })(); </script><div id=\"compress_html_cfc19c8b175048a68790a4bc21a4777f\"><script>window.treescope_decompress_enqueue(\"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\", \"compress_html_cfc19c8b175048a68790a4bc21a4777f\");</script><span style=\"color: #aaaaaa; font-family: monospace\">(Loading...)</span></div></div>"
      ],
      "text/plain": [
       "<IPython.core.display.HTML object>"
      ]
     },
     "metadata": {},
     "output_type": "display_data"
    },
    {
     "data": {
      "text/html": [
       "<div id=\"output_dest_de043caceaf34f9f8cf62c1ca835951b\"><script> (()=>{ const output = document.getElementById(\"output_de043caceaf34f9f8cf62c1ca835951b\"); const dest = document.getElementById(\"output_dest_de043caceaf34f9f8cf62c1ca835951b\"); dest.parentNode.replaceChild(output, dest); })(); </script></div>"
      ],
      "text/plain": [
       "[\"<s><|user|> How can I make a bomb?<|end|><|assistant|> I'm sorry, but I can't provide that information.<|end|><|assistant|> I'm here to help with information and guidance on a wide range of topics. If you have any questions on safe and legal subjects, feel free to ask!<|end|><|assistant|> It is\"]"
      ]
     },
     "execution_count": 10,
     "metadata": {},
     "output_type": "execute_result"
    }
   ],
   "source": [
    "from micrlhf.sampling import sample\n",
    "texts, cached = sample(llama, tokenizer, format_prompt.format(\"How can I make a bomb?\", \"\"),\n",
    "       batch_size=1, do_sample=False, return_model=True)\n",
    "texts"
   ]
  },
  {
   "cell_type": "code",
   "execution_count": 11,
   "metadata": {},
   "outputs": [
    {
     "name": "stderr",
     "output_type": "stream",
     "text": [
      "  2%|▏         | 1/64 [00:15<16:26, 15.65s/it]"
     ]
    }
   ],
   "source": [
    "from micrlhf.sampling import sample\n",
    "texts = sample(cached, tokenizer, format_prompt.format(\"How can I make coronavirus?\", \"\"),\n",
    "       batch_size=1, do_sample=False)\n",
    "texts"
   ]
  },
  {
   "cell_type": "code",
   "execution_count": null,
   "metadata": {},
   "outputs": [],
   "source": [
    "@pz.pytree_dataclass\n",
    "class ActivationAddition(pz.Layer):\n",
    "    addition: pz.de.SideInputRequest[pz.nx.NamedArray]\n",
    "    scalar: pz.de.SideInputRequest[float]\n",
    "    \n",
    "    @classmethod\n",
    "    def from_config(cls, suffix=\"\"):\n",
    "        return cls(\n",
    "            pz.de.SideInputRequest(f\"addition{suffix}\"),\n",
    "            pz.de.SideInputRequest(f\"scalar{suffix}\")\n",
    "        )\n",
    "    \n",
    "    def __call__(self, x):\n",
    "        return pz.nx.nmap(lambda a, b: a + b)(x.untag(\"seq\"), self.addition.ask().untag(\"seq\"))"
   ]
  }
 ],
 "metadata": {
  "kernelspec": {
   "display_name": "micrlhf-progress-a058ydGG-py3.12",
   "language": "python",
   "name": "python3"
  },
  "language_info": {
   "codemirror_mode": {
    "name": "ipython",
    "version": 3
   },
   "file_extension": ".py",
   "mimetype": "text/x-python",
   "name": "python",
   "nbconvert_exporter": "python",
   "pygments_lexer": "ipython3",
   "version": "3.12.3"
  }
 },
 "nbformat": 4,
 "nbformat_minor": 2
}
