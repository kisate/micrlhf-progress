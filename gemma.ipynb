{
 "cells": [
  {
   "cell_type": "code",
   "execution_count": 1,
   "metadata": {},
   "outputs": [],
   "source": [
    "%load_ext autoreload\n",
    "%autoreload 2\n",
    "import penzai\n",
    "from penzai import pz\n",
    "pz.ts.register_as_default()\n",
    "pz.ts.register_autovisualize_magic()\n",
    "pz.enable_interactive_context()"
   ]
  },
  {
   "cell_type": "code",
   "execution_count": 2,
   "metadata": {},
   "outputs": [],
   "source": [
    "from micrlhf.llama import LlamaTransformer\n",
    "llama = LlamaTransformer.from_pretrained(\"models/gemma-2b.gguf\", device_map=\"auto\",\n",
    "                                         from_type=\"gemma\", load_eager=True)"
   ]
  },
  {
   "cell_type": "code",
   "execution_count": 3,
   "metadata": {},
   "outputs": [
    {
     "name": "stderr",
     "output_type": "stream",
     "text": [
      "/home/neverix/.cache/pypoetry/virtualenvs/micrlhf-progress-a058ydGG-py3.12/lib/python3.12/site-packages/huggingface_hub/file_download.py:1132: FutureWarning: `resume_download` is deprecated and will be removed in version 1.0.0. Downloads always resume when possible. If you want to force a new download, use `force_download=True`.\n",
      "  warnings.warn(\n"
     ]
    }
   ],
   "source": [
    "from transformers import AutoTokenizer\n",
    "tokenizer = AutoTokenizer.from_pretrained(\"alpindale/gemma-2b\")\n",
    "tokenizer.padding_side = \"right\""
   ]
  },
  {
   "cell_type": "code",
   "execution_count": 4,
   "metadata": {},
   "outputs": [],
   "source": [
    "tokens = tokenizer.encode(\"The quick brown fox jumps over the lazy dog\")"
   ]
  },
  {
   "cell_type": "code",
   "execution_count": 5,
   "metadata": {},
   "outputs": [
    {
     "data": {
      "text/html": [
       "<div id=\"output_9712e09f741842eb8b6884f64a42ba13\"><script> /* penzai.treescope rendering of a Python object (compressed) */ (()=>{ let observer; let lastStep = new Promise((resolve, reject) => { observer = new IntersectionObserver((entries) => { for (const entry of entries) { if (entry.isIntersecting) { resolve(); observer.disconnect(); return; } } }, {rootMargin: \"1000px\"}); }); window.treescope_decompress_enqueue = (encoded, destId) => { const previous = lastStep; const destElt = document.getElementById(destId); lastStep = (async () => { await previous; let blob = new Blob([ Uint8Array.from(atob(encoded), (m) => m.codePointAt(0)) ]); let reader = blob.stream().pipeThrough( new DecompressionStream(\"deflate\") ).pipeThrough( new TextDecoderStream(\"utf-8\") ).getReader(); let parts = []; while (true) { let step = await reader.read(); if (step.done) { break; } parts.push(step.value); } let newElt = document.createElement(\"div\"); newElt.innerHTML = parts.join(\"\"); destElt.parentNode.replaceChild(newElt, destElt); for (let oldScript of newElt.querySelectorAll(\"script\")) { let newScript = document.createElement(\"script\"); newScript.type = oldScript.type; newScript.textContent = oldScript.textContent; oldScript.parentNode.replaceChild(newScript, oldScript); } })(); requestAnimationFrame(() => { observer.observe(destElt); }); } })(); </script><div id=\"compress_html_d7479c740c0e49c589dfc4b477cd8aff\"><script>window.treescope_decompress_enqueue(\"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\", \"compress_html_d7479c740c0e49c589dfc4b477cd8aff\");</script><span style=\"color: #aaaaaa; font-family: monospace\">(Loading...)</span></div></div>"
      ],
      "text/plain": [
       "<IPython.core.display.HTML object>"
      ]
     },
     "metadata": {},
     "output_type": "display_data"
    },
    {
     "data": {
      "text/html": [
       "<div id=\"compress_html_53c60fd688ea4200b424df02f9ea7289\"><script>window.treescope_decompress_enqueue(\"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\", \"compress_html_53c60fd688ea4200b424df02f9ea7289\");</script></div>"
      ],
      "text/plain": [
       "<IPython.core.display.HTML object>"
      ]
     },
     "metadata": {},
     "output_type": "display_data"
    },
    {
     "data": {
      "text/html": [
       "<div id=\"output_dest_9712e09f741842eb8b6884f64a42ba13\"><script> (()=>{ const output = document.getElementById(\"output_9712e09f741842eb8b6884f64a42ba13\"); const dest = document.getElementById(\"output_dest_9712e09f741842eb8b6884f64a42ba13\"); dest.parentNode.replaceChild(output, dest); })(); </script></div>"
      ],
      "text/plain": [
       "# jax.Array float32(10, 2048) ≈0.019 ±7.3 [≥-4.6e+02, ≤2.9e+02] zero:276 nonzero:20_204\n",
       "  Array([[ 5.3911133 ,  0.850647  , -1.4472046 , ..., -0.2844696 ,\n",
       "           0.        , -0.2844696 ],\n",
       "         [10.3845215 , -2.8944092 , -3.0932617 , ..., -0.39494324,\n",
       "           1.977478  , -3.159546  ],\n",
       "         [13.433594  , -2.3199463 ,  0.74017334, ...,  0.        ,\n",
       "           2.3530884 , -1.1765442 ],\n",
       "         ...,\n",
       "         [10.51709   , -1.1599731 , -4.5515137 , ..., -0.24442291,\n",
       "           1.9553833 ,  0.97769165],\n",
       "         [15.466309  , -1.9443359 ,  1.9443359 , ...,  1.9222412 ,\n",
       "           2.1652832 , -2.6403198 ],\n",
       "         [12.10791   , -0.85617065,  2.5740356 , ..., -1.1931152 ,\n",
       "           1.1931152 ,  0.        ]], dtype=float32)\n"
      ]
     },
     "execution_count": 5,
     "metadata": {},
     "output_type": "execute_result"
    }
   ],
   "source": [
    "import jax.numpy as jnp\n",
    "import jax\n",
    "from micrlhf.llama import LlamaBlock\n",
    "get_resids = llama.select().at_instances_of(LlamaBlock).apply_with_selected_index(lambda i, x:\n",
    "    pz.nn.Sequential([\n",
    "        pz.de.TellIntermediate.from_config(tag=f\"resid_pre_{i}\"),\n",
    "        x\n",
    "    ])\n",
    ")\n",
    "get_resids = pz.de.CollectingSideOutputs.handling(get_resids, tag_predicate=lambda x: x.startswith(\"resid_pre\"))\n",
    "token_array = jnp.asarray([tokens] * 4)\n",
    "token_array = jax.device_put(token_array, jax.sharding.NamedSharding(llama.mesh, jax.sharding.PartitionSpec(\"dp\", \"sp\")))\n",
    "token_array = pz.nx.wrap(token_array, \"batch\", \"seq\")\n",
    "inputs = llama.inputs.from_basic_segments(token_array)\n",
    "get_resids(inputs)[1][0].value.unwrap(\"batch\", \"seq\", \"embedding\")[0]"
   ]
  },
  {
   "cell_type": "code",
   "execution_count": 6,
   "metadata": {},
   "outputs": [
    {
     "data": {
      "application/vnd.jupyter.widget-view+json": {
       "model_id": "95cc5667858f49d3946c6d3305c81b06",
       "version_major": 2,
       "version_minor": 0
      },
      "text/plain": [
       "  0%|          | 0/64 [00:00<?, ?it/s]"
      ]
     },
     "metadata": {},
     "output_type": "display_data"
    },
    {
     "data": {
      "text/html": [
       "<div id=\"output_80e3b8b6a1c24c7795b3c34191091752\"><script> /* penzai.treescope rendering of a Python object (compressed) */ (()=>{ let observer; let lastStep = new Promise((resolve, reject) => { observer = new IntersectionObserver((entries) => { for (const entry of entries) { if (entry.isIntersecting) { resolve(); observer.disconnect(); return; } } }, {rootMargin: \"1000px\"}); }); window.treescope_decompress_enqueue = (encoded, destId) => { const previous = lastStep; const destElt = document.getElementById(destId); lastStep = (async () => { await previous; let blob = new Blob([ Uint8Array.from(atob(encoded), (m) => m.codePointAt(0)) ]); let reader = blob.stream().pipeThrough( new DecompressionStream(\"deflate\") ).pipeThrough( new TextDecoderStream(\"utf-8\") ).getReader(); let parts = []; while (true) { let step = await reader.read(); if (step.done) { break; } parts.push(step.value); } let newElt = document.createElement(\"div\"); newElt.innerHTML = parts.join(\"\"); destElt.parentNode.replaceChild(newElt, destElt); for (let oldScript of newElt.querySelectorAll(\"script\")) { let newScript = document.createElement(\"script\"); newScript.type = oldScript.type; newScript.textContent = oldScript.textContent; oldScript.parentNode.replaceChild(newScript, oldScript); } })(); requestAnimationFrame(() => { observer.observe(destElt); }); } })(); </script><div id=\"compress_html_92d61787935a4d1ea71c82e7fb8db252\"><script>window.treescope_decompress_enqueue(\"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\", \"compress_html_92d61787935a4d1ea71c82e7fb8db252\");</script><span style=\"color: #aaaaaa; font-family: monospace\">(Loading...)</span></div></div>"
      ],
      "text/plain": [
       "<IPython.core.display.HTML object>"
      ]
     },
     "metadata": {},
     "output_type": "display_data"
    },
    {
     "data": {
      "text/html": [
       "<div id=\"output_dest_80e3b8b6a1c24c7795b3c34191091752\"><script> (()=>{ const output = document.getElementById(\"output_80e3b8b6a1c24c7795b3c34191091752\"); const dest = document.getElementById(\"output_dest_80e3b8b6a1c24c7795b3c34191091752\"); dest.parentNode.replaceChild(output, dest); })(); </script></div>"
      ],
      "text/plain": [
       "['<bos>Write me a poem about Machine Learning.\\n\\nMy man Rick said “listen, dawg”,\\n\\nThe field will be robbed of me\\n\\nby a customer experience\\n\\nheaven forbid.\\n\\nI can’t just come back all major words\\n\\nin capital letters.\\n\\nI’m an insecure data scientist\\n\\nLook at these',\n",
       " '<bos>Write me a poem about Machine Learning.\\n\\nAs you know, downvotes rule the online world. If someone wants to be polite, they want the <em>insight</em>. If anyone is rude, they downvote the comment.\\n\\nI was delighted to find a machine learning model that fits parents and child chronologically.\\n\\nCan',\n",
       " '<bos>Write me a poem about Machine Learning.\\n\\nBecause I’m going to the ALT conference in Boston the whole weekend of February 3rd. The entire curriculum for the 2014 edition is written. It’s a balance between learn something new and sharpen something old.\\n\\nI’m back and',\n",
       " '<bos>Write me a poem about Machine Learning. One index really is shining bright!\\n\\nJapanese students pursue postgraduate studies – An update with figures – Japanese education system chart revised – Report – News – Japanese Education\\n\\n<b>“Current Vocabulary” of Indian Hindi-speaking region</b>\\n\\n<b>Facebook Evidence Study</b> – Hilary Khan, Penguin']"
      ]
     },
     "execution_count": 6,
     "metadata": {},
     "output_type": "execute_result"
    }
   ],
   "source": [
    "from micrlhf.sampling import sample\n",
    "texts = sample(llama, tokenizer, \"Write me a poem about Machine Learning.\",\n",
    "               batch_size=4, do_sample=True)\n",
    "texts"
   ]
  },
  {
   "cell_type": "code",
   "execution_count": 7,
   "metadata": {},
   "outputs": [
    {
     "name": "stderr",
     "output_type": "stream",
     "text": [
      "/home/neverix/.cache/pypoetry/virtualenvs/micrlhf-progress-a058ydGG-py3.12/lib/python3.12/site-packages/huggingface_hub/file_download.py:1132: FutureWarning: `resume_download` is deprecated and will be removed in version 1.0.0. Downloads always resume when possible. If you want to force a new download, use `force_download=True`.\n",
      "  warnings.warn(\n",
      "Gemma's activation function should be approximate GeLU and not exact GeLU.\n",
      "Changing the activation function to `gelu_pytorch_tanh`.if you want to use the legacy `gelu`, edit the `model.config` to set `hidden_activation=gelu`   instead of `hidden_act`. See https://github.com/huggingface/transformers/pull/29402 for more details.\n"
     ]
    },
    {
     "data": {
      "application/vnd.jupyter.widget-view+json": {
       "model_id": "0a6fe8ca46b44b9b8b52eb3b07ab0a71",
       "version_major": 2,
       "version_minor": 0
      },
      "text/plain": [
       "Loading checkpoint shards:   0%|          | 0/2 [00:00<?, ?it/s]"
      ]
     },
     "metadata": {},
     "output_type": "display_data"
    },
    {
     "name": "stderr",
     "output_type": "stream",
     "text": [
      "/home/neverix/.cache/pypoetry/virtualenvs/micrlhf-progress-a058ydGG-py3.12/lib/python3.12/site-packages/huggingface_hub/file_download.py:1132: FutureWarning: `resume_download` is deprecated and will be removed in version 1.0.0. Downloads always resume when possible. If you want to force a new download, use `force_download=True`.\n",
      "  warnings.warn(\n"
     ]
    }
   ],
   "source": [
    "from transformers import AutoModelForCausalLM\n",
    "model = AutoModelForCausalLM.from_pretrained(\"alpindale/gemma-2b\")"
   ]
  },
  {
   "cell_type": "code",
   "execution_count": 8,
   "metadata": {},
   "outputs": [
    {
     "name": "stdout",
     "output_type": "stream",
     "text": [
      "tensor([[[ 5.3917,  0.8673, -1.4363,  ..., -0.2969,  0.0157, -0.4033],\n",
      "         [10.3856, -2.8726, -3.0936,  ..., -0.2983,  1.9003, -3.1157],\n",
      "         [13.4350, -2.3754,  0.7568,  ..., -0.0687,  2.4528, -1.1214],\n",
      "         ...,\n",
      "         [10.5182, -1.1270, -4.5299,  ..., -0.3439,  2.0329,  0.9723],\n",
      "         [15.4680, -1.9224,  1.9666,  ...,  1.8672,  2.1324, -2.6296],\n",
      "         [12.1092, -0.8121,  2.5301,  ..., -1.1656,  1.1546, -0.0511]]],\n",
      "       grad_fn=<MulBackward0>)\n"
     ]
    },
    {
     "data": {
      "text/html": [
       "<div id=\"output_254c49978ab645cd839581d6761fa31e\"><script> /* penzai.treescope rendering of a Python object (compressed) */ (()=>{ let observer; let lastStep = new Promise((resolve, reject) => { observer = new IntersectionObserver((entries) => { for (const entry of entries) { if (entry.isIntersecting) { resolve(); observer.disconnect(); return; } } }, {rootMargin: \"1000px\"}); }); window.treescope_decompress_enqueue = (encoded, destId) => { const previous = lastStep; const destElt = document.getElementById(destId); lastStep = (async () => { await previous; let blob = new Blob([ Uint8Array.from(atob(encoded), (m) => m.codePointAt(0)) ]); let reader = blob.stream().pipeThrough( new DecompressionStream(\"deflate\") ).pipeThrough( new TextDecoderStream(\"utf-8\") ).getReader(); let parts = []; while (true) { let step = await reader.read(); if (step.done) { break; } parts.push(step.value); } let newElt = document.createElement(\"div\"); newElt.innerHTML = parts.join(\"\"); destElt.parentNode.replaceChild(newElt, destElt); for (let oldScript of newElt.querySelectorAll(\"script\")) { let newScript = document.createElement(\"script\"); newScript.type = oldScript.type; newScript.textContent = oldScript.textContent; oldScript.parentNode.replaceChild(newScript, oldScript); } })(); requestAnimationFrame(() => { observer.observe(destElt); }); } })(); </script><div id=\"compress_html_5eb2a7e2ed164d9f955b805356420d08\"><script>window.treescope_decompress_enqueue(\"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\", \"compress_html_5eb2a7e2ed164d9f955b805356420d08\");</script><span style=\"color: #aaaaaa; font-family: monospace\">(Loading...)</span></div></div>"
      ],
      "text/plain": [
       "<IPython.core.display.HTML object>"
      ]
     },
     "metadata": {},
     "output_type": "display_data"
    },
    {
     "data": {
      "text/html": [
       "<div id=\"output_dest_254c49978ab645cd839581d6761fa31e\"><script> (()=>{ const output = document.getElementById(\"output_254c49978ab645cd839581d6761fa31e\"); const dest = document.getElementById(\"output_dest_254c49978ab645cd839581d6761fa31e\"); dest.parentNode.replaceChild(output, dest); })(); </script></div>"
      ],
      "text/plain": [
       "tensor([[[-26.5950, -13.8833, -18.2747,  ..., -21.2892, -23.2392, -26.5799],\n",
       "         [-42.4406, -33.3739, -47.8576,  ..., -42.1095, -46.7014, -42.5487],\n",
       "         [-42.5846, -30.0222, -34.0748,  ..., -40.6030, -38.9625, -42.6937],\n",
       "         ...,\n",
       "         [-41.7852, -19.4810, -38.3410,  ..., -38.2935, -41.6302, -41.8573],\n",
       "         [-39.3097, -18.4143, -34.3758,  ..., -36.4977, -40.6678, -39.3800],\n",
       "         [-42.2921, -23.0559, -36.2486,  ..., -38.2521, -37.0666, -42.3374]]],\n",
       "       grad_fn=<UnsafeViewBackward0>)"
      ]
     },
     "execution_count": 8,
     "metadata": {},
     "output_type": "execute_result"
    }
   ],
   "source": [
    "import torch\n",
    "from collections import OrderedDict\n",
    "for m in model.modules():\n",
    "    m._forward_hooks = OrderedDict()\n",
    "model.model.layers[0].register_forward_hook(lambda self, input, output: print(input[0]))\n",
    "tt = torch.LongTensor(tokens).unsqueeze(0)\n",
    "model(tt).logits"
   ]
  }
 ],
 "metadata": {
  "kernelspec": {
   "display_name": "micrlhf-progress-a058ydGG-py3.12",
   "language": "python",
   "name": "python3"
  },
  "language_info": {
   "codemirror_mode": {
    "name": "ipython",
    "version": 3
   },
   "file_extension": ".py",
   "mimetype": "text/x-python",
   "name": "python",
   "nbconvert_exporter": "python",
   "pygments_lexer": "ipython3",
   "version": "3.12.3"
  }
 },
 "nbformat": 4,
 "nbformat_minor": 2
}
