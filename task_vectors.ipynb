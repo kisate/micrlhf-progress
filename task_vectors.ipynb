{
 "cells": [
  {
   "cell_type": "code",
   "execution_count": 1,
   "metadata": {},
   "outputs": [],
   "source": [
    "%load_ext autoreload\n",
    "%autoreload 2\n",
    "import penzai\n",
    "from penzai import pz\n",
    "pz.ts.register_as_default()\n",
    "pz.ts.register_autovisualize_magic()\n",
    "pz.enable_interactive_context()"
   ]
  },
  {
   "cell_type": "code",
   "execution_count": 2,
   "metadata": {},
   "outputs": [],
   "source": [
    "\n",
    "pz.ts.active_autovisualizer.set_interactive(pz.ts.ArrayAutovisualizer())"
   ]
  },
  {
   "cell_type": "code",
   "execution_count": 3,
   "metadata": {},
   "outputs": [
    {
     "name": "stderr",
     "output_type": "stream",
     "text": [
      "/home/dmitrii/.cache/pypoetry/virtualenvs/micrlhf-progress-_SD4q1c9-py3.12/lib/python3.12/site-packages/huggingface_hub/file_download.py:1132: FutureWarning: `resume_download` is deprecated and will be removed in version 1.0.0. Downloads always resume when possible. If you want to force a new download, use `force_download=True`.\n",
      "  warnings.warn(\n",
      "Special tokens have been added in the vocabulary, make sure the associated word embeddings are fine-tuned or trained.\n"
     ]
    }
   ],
   "source": [
    "filename = \"models/phi-3-16.gguf\"\n",
    "from micrlhf.llama import LlamaTransformer\n",
    "llama = LlamaTransformer.from_pretrained(filename, device_map=\"auto\")\n",
    "from micrlhf.sampling import sample\n",
    "from transformers import AutoTokenizer\n",
    "import jax\n",
    "# tokenizer = load_tokenizer(filename)\n",
    "tokenizer = AutoTokenizer.from_pretrained(\"microsoft/Phi-3-mini-4k-instruct\")\n"
   ]
  },
  {
   "cell_type": "code",
   "execution_count": 4,
   "metadata": {},
   "outputs": [],
   "source": [
    "tokenizer.pad_token = tokenizer.eos_token\n",
    "tokenizer.padding_side = \"left\""
   ]
  },
  {
   "cell_type": "code",
   "execution_count": 5,
   "metadata": {},
   "outputs": [
    {
     "name": "stdout",
     "output_type": "stream",
     "text": [
      "fatal: destination path 'data/itv' already exists and is not an empty directory.\n"
     ]
    },
    {
     "name": "stderr",
     "output_type": "stream",
     "text": [
      "/home/dmitrii/.pyenv/versions/3.12.3/lib/python3.12/pty.py:95: RuntimeWarning: os.fork() was called. os.fork() is incompatible with multithreaded code, and JAX is multithreaded, so this will likely lead to a deadlock.\n",
      "  pid, fd = os.forkpty()\n"
     ]
    }
   ],
   "source": [
    "!git clone https://github.com/roeehendel/icl_task_vectors data/itv\n",
    "import glob\n",
    "import json\n",
    "import os\n",
    "tasks = {}\n",
    "for g in glob.glob(\"data/itv/data/**/*.json\"):\n",
    "    tasks[os.path.basename(g).partition(\".\")[0]] = json.load(open(g))"
   ]
  },
  {
   "cell_type": "code",
   "execution_count": 6,
   "metadata": {},
   "outputs": [
    {
     "data": {
      "text/html": [
       "<div id=\"output_b7695aa0962d4894a7e88f894654ac3e\"><script> /* penzai.treescope rendering of a Python object (compressed) */ (()=>{ let observer; let lastStep = new Promise((resolve, reject) => { observer = new IntersectionObserver((entries) => { for (const entry of entries) { if (entry.isIntersecting) { resolve(); observer.disconnect(); return; } } }, {rootMargin: \"1000px\"}); }); window.treescope_decompress_enqueue = (encoded, destId) => { const previous = lastStep; const destElt = document.getElementById(destId); lastStep = (async () => { await previous; let blob = new Blob([ Uint8Array.from(atob(encoded), (m) => m.codePointAt(0)) ]); let reader = blob.stream().pipeThrough( new DecompressionStream(\"deflate\") ).pipeThrough( new TextDecoderStream(\"utf-8\") ).getReader(); let parts = []; while (true) { let step = await reader.read(); if (step.done) { break; } parts.push(step.value); } let newElt = document.createElement(\"div\"); newElt.innerHTML = parts.join(\"\"); destElt.parentNode.replaceChild(newElt, destElt); for (let oldScript of newElt.querySelectorAll(\"script\")) { let newScript = document.createElement(\"script\"); newScript.type = oldScript.type; newScript.textContent = oldScript.textContent; oldScript.parentNode.replaceChild(newScript, oldScript); } })(); requestAnimationFrame(() => { observer.observe(destElt); }); } })(); </script><div id=\"compress_html_b86614037b8d4ec9af73d6c541f2f838\"><script>window.treescope_decompress_enqueue(\"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\", \"compress_html_b86614037b8d4ec9af73d6c541f2f838\");</script><span style=\"color: #aaaaaa; font-family: monospace\">(Loading...)</span></div></div>"
      ],
      "text/plain": [
       "<IPython.core.display.HTML object>"
      ]
     },
     "metadata": {},
     "output_type": "display_data"
    },
    {
     "data": {
      "text/html": [
       "<div id=\"output_dest_b7695aa0962d4894a7e88f894654ac3e\"><script> (()=>{ const output = document.getElementById(\"output_b7695aa0962d4894a7e88f894654ac3e\"); const dest = document.getElementById(\"output_dest_b7695aa0962d4894a7e88f894654ac3e\"); dest.parentNode.replaceChild(output, dest); })(); </script></div>"
      ],
      "text/plain": [
       "dict_keys(['location_continent', 'football_player_position', 'location_religion', 'location_language', 'person_profession', 'location_country', 'country_capital', 'person_language', 'singular_plural', 'present_simple_past_simple', 'antonyms', 'plural_singular', 'present_simple_past_perfect', 'present_simple_gerund', 'en_it', 'it_en', 'en_fr', 'en_es', 'fr_en', 'es_en'])"
      ]
     },
     "execution_count": 6,
     "metadata": {},
     "output_type": "execute_result"
    }
   ],
   "source": [
    "tasks.keys()"
   ]
  },
  {
   "cell_type": "code",
   "execution_count": 7,
   "metadata": {},
   "outputs": [],
   "source": [
    "from micrlhf.llama import LlamaBlock\n",
    "from micrlhf.sampling import sample, jit_wrapper\n",
    "get_resids = llama.select().at_instances_of(LlamaBlock).apply_with_selected_index(lambda i, x:\n",
    "    pz.nn.Sequential([\n",
    "        pz.de.TellIntermediate.from_config(tag=f\"resid_pre_{i}\"),\n",
    "        x\n",
    "    ])\n",
    ")\n",
    "get_resids = pz.de.CollectingSideOutputs.handling(get_resids, tag_predicate=lambda x: x.startswith(\"resid_pre\"))\n",
    "get_resids_call = jit_wrapper.Jitted(get_resids)"
   ]
  },
  {
   "cell_type": "code",
   "execution_count": 8,
   "metadata": {},
   "outputs": [],
   "source": [
    "from matplotlib import pyplot as plt\n",
    "from tqdm.auto import tqdm, trange\n",
    "import jax.numpy as jnp\n",
    "import numpy as np\n",
    "import random\n",
    "from penzai.data_effects.side_output import SideOutputValue\n",
    "from micrlhf.utils.activation_manipulation import add_vector"
   ]
  },
  {
   "cell_type": "code",
   "execution_count": 66,
   "metadata": {},
   "outputs": [
    {
     "name": "stdout",
     "output_type": "stream",
     "text": [
      "Tuple-representation of the sequence:\n",
      "(hot, cold), (yes, no), (in, out), up ->\n",
      "\n",
      "Actual prompt, which will be fed into the model:\n",
      "hot -> cold, yes -> no, in -> out, up ->\n"
     ]
    }
   ],
   "source": [
    "from typing import List\n",
    "\n",
    "class ICLSequence:\n",
    "    '''\n",
    "    Class to store a single antonym sequence.\n",
    "\n",
    "    Uses the default template \"Q: {x}\\nA: {y}\" (with separate pairs split by \"\\n\\n\").\n",
    "    '''\n",
    "    def __init__(self, word_pairs: List[List[str]]):\n",
    "        self.word_pairs = word_pairs\n",
    "        self.x, self.y = zip(*word_pairs)\n",
    "\n",
    "    def __len__(self):\n",
    "        return len(self.word_pairs)\n",
    "\n",
    "    def __getitem__(self, idx: int):\n",
    "        return self.word_pairs[idx]\n",
    "\n",
    "    # def prompt(self):\n",
    "    #     '''Returns the prompt, which contains all but the second element in the last word pair.'''\n",
    "    #     p = \"\\n\\n\".join([f\"Q: {x}\\nA: {y}\" for x, y in self.word_pairs])\n",
    "    #     return p[:-len(self.completion())]\n",
    "\n",
    "    def prompt(self):\n",
    "        '''Returns the prompt, which contains all but the second element in the last word pair.'''\n",
    "        p = \", \".join([f\"{x} -> {y}\" for x, y in self.word_pairs])\n",
    "        return p[:-len(self.completion())-1]\n",
    "\n",
    "    def completion(self):\n",
    "        '''Returns the second element in the last word pair (with padded space).'''\n",
    "        return \"\" + self.y[-1]\n",
    "\n",
    "    def __str__(self):\n",
    "        '''Prints a readable string representation of the prompt & completion (indep of template).'''\n",
    "        return f\"{', '.join([f'({x}, {y})' for x, y in self[:-1]])}, {self.x[-1]} ->\".strip(\", \")\n",
    "\n",
    "\n",
    "word_list = [[\"hot\", \"cold\"], [\"yes\", \"no\"], [\"in\", \"out\"], [\"up\", \"down\"]]\n",
    "seq = ICLSequence(word_list)\n",
    "\n",
    "print(\"Tuple-representation of the sequence:\")\n",
    "print(seq)\n",
    "print(\"\\nActual prompt, which will be fed into the model:\")\n",
    "print(seq.prompt())"
   ]
  },
  {
   "cell_type": "code",
   "execution_count": 67,
   "metadata": {},
   "outputs": [],
   "source": [
    "class ICLDataset:\n",
    "    '''\n",
    "    Dataset to create antonym pair prompts, in ICL task format. We use random seeds for consistency\n",
    "    between the corrupted and clean datasets.\n",
    "\n",
    "    Inputs:\n",
    "        word_pairs:\n",
    "            list of ICL task, e.g. [[\"old\", \"young\"], [\"top\", \"bottom\"], ...] for the antonym task\n",
    "        size:\n",
    "            number of prompts to generate\n",
    "        n_prepended:\n",
    "            number of antonym pairs before the single-word ICL task\n",
    "        bidirectional:\n",
    "            if True, then we also consider the reversed antonym pairs\n",
    "        corrupted:\n",
    "            if True, then the second word in each pair is replaced with a random word\n",
    "        seed:\n",
    "            random seed, for consistency & reproducibility\n",
    "    '''\n",
    "\n",
    "    def __init__(\n",
    "        self,\n",
    "        word_pairs: List[List[str]],\n",
    "        size: int,\n",
    "        n_prepended: int,\n",
    "        bidirectional: bool = True,\n",
    "        seed: int = 0,\n",
    "        corrupted: bool = False,\n",
    "    ):\n",
    "        assert n_prepended+1 <= len(word_pairs), \"Not enough antonym pairs in dataset to create prompt.\"\n",
    "\n",
    "        self.word_pairs = word_pairs\n",
    "        self.word_list = [word for word_pair in word_pairs for word in word_pair]\n",
    "        self.size = size\n",
    "        self.n_prepended = n_prepended\n",
    "        self.bidirectional = bidirectional\n",
    "        self.corrupted = corrupted\n",
    "        self.seed = seed\n",
    "\n",
    "        self.seqs = []\n",
    "        self.prompts = []\n",
    "        self.completions = []\n",
    "\n",
    "        # Generate the dataset (by choosing random antonym pairs, and constructing `ICLSequence` objects)\n",
    "        for n in range(size):\n",
    "            np.random.seed(seed + n)\n",
    "            random_pairs = np.random.choice(len(self.word_pairs), n_prepended+1, replace=False)\n",
    "            random_orders = np.random.choice([1, -1], n_prepended+1)\n",
    "            if not(bidirectional): random_orders[:] = 1\n",
    "            word_pairs = [self.word_pairs[pair][::order] for pair, order in zip(random_pairs, random_orders)]\n",
    "            if corrupted:\n",
    "                for i in range(len(word_pairs) - 1):\n",
    "                    word_pairs[i][1] = np.random.choice(self.word_list)\n",
    "            seq = ICLSequence(word_pairs)\n",
    "\n",
    "            self.seqs.append(seq)\n",
    "            self.prompts.append(seq.prompt())\n",
    "            self.completions.append(seq.completion())\n",
    "\n",
    "    def create_corrupted_dataset(self):\n",
    "        '''Creates a corrupted version of the dataset (with same random seed).'''\n",
    "        return ICLDataset(self.word_pairs, self.size, self.n_prepended, self.bidirectional, corrupted=True, seed=self.seed)\n",
    "\n",
    "    def __len__(self):\n",
    "        return self.size\n",
    "\n",
    "    def __getitem__(self, idx: int):\n",
    "        return self.seqs[idx]"
   ]
  },
  {
   "cell_type": "code",
   "execution_count": 29,
   "metadata": {},
   "outputs": [],
   "source": [
    "def generate_task_prompt(task, n_shots):\n",
    "    prompt = \"<user>Follow the pattern\\n{}\"\n",
    "    examples = []\n",
    "\n",
    "    for s, t in random.sample(list(tasks[task].items()), n_shots):\n",
    "        examples.append(f\"{s} -> {t}\")\n",
    "    prompt = prompt.format(\"\\n\".join(examples))\n",
    "\n",
    "    # print(prompt)\n",
    "\n",
    "    return prompt\n",
    "\n",
    "def tokenized_to_inputs(input_ids, attention_mask):\n",
    "    token_array = jnp.asarray(input_ids)\n",
    "    token_array = jax.device_put(token_array, jax.sharding.NamedSharding(llama.mesh, jax.sharding.PartitionSpec(\"dp\", \"sp\")))\n",
    "    token_array = pz.nx.wrap(token_array, \"batch\", \"seq\").untag(\"batch\").tag(\"batch\")\n",
    "\n",
    "    mask_array = jnp.asarray(attention_mask, dtype=jnp.bool)\n",
    "    mask_array = jax.device_put(mask_array, jax.sharding.NamedSharding(llama.mesh, jax.sharding.PartitionSpec(\"dp\", \"sp\")))\n",
    "    mask_array = pz.nx.wrap(mask_array, \"batch\", \"seq\").untag(\"batch\").tag(\"batch\")\n",
    "\n",
    "    inputs = llama.inputs.from_basic_segments(token_array)\n",
    "    return inputs"
   ]
  },
  {
   "cell_type": "code",
   "execution_count": 68,
   "metadata": {},
   "outputs": [
    {
     "name": "stderr",
     "output_type": "stream",
     "text": [
      "100%|██████████| 20/20 [00:00<00:00, 392.09it/s]\n"
     ]
    }
   ],
   "source": [
    "from tqdm import tqdm\n",
    "\n",
    "datasets_dict = {}\n",
    "\n",
    "for task, pairs in tqdm(tasks.items()):\n",
    "  pairs = [list(x) for x in pairs.items()]\n",
    "  dataset = ICLDataset(pairs, size=20, n_prepended=10, bidirectional=False, seed=0)\n",
    "\n",
    "  prompts = dataset\n",
    "\n",
    "  # ld = logit_diff(dataset, model.run_with_saes(prompts, saes=[sae]))\n",
    "\n",
    "  # prompts_dict[task] = [x for x, y in zip(dataset.prompts, ld) if y >= -1e-6]\n",
    "  datasets_dict[task] = dataset\n"
   ]
  },
  {
   "cell_type": "code",
   "execution_count": 69,
   "metadata": {},
   "outputs": [
    {
     "name": "stderr",
     "output_type": "stream",
     "text": [
      "100%|██████████| 20/20 [00:00<00:00, 425.62it/s]\n"
     ]
    }
   ],
   "source": [
    "zero_datasets_dict = {}\n",
    "\n",
    "for task, pairs in tqdm(tasks.items()):\n",
    "  pairs = [list(x) for x in pairs.items()]\n",
    "  dataset = ICLDataset(pairs, size=20, n_prepended=0, bidirectional=False, seed=1)\n",
    "\n",
    "  prompts = dataset\n",
    "\n",
    "  zero_datasets_dict[task] = dataset"
   ]
  },
  {
   "cell_type": "code",
   "execution_count": 32,
   "metadata": {},
   "outputs": [],
   "source": [
    "def generate_task_inputs_old(task, n_shots, batch_size, max_length=128, seed=0):\n",
    "    random.seed(seed)\n",
    "\n",
    "    texts = [generate_task_prompt(task, n_shots) for _ in range(batch_size)]\n",
    "    tokenized = tokenizer.batch_encode_plus(texts, padding=\"longest\", max_length=max_length, truncation=True, return_tensors=\"np\")\n",
    "\n",
    "    inputs = tokenized_to_inputs(\n",
    "        **tokenized\n",
    "    )\n",
    "\n",
    "    return inputs, tokenized"
   ]
  },
  {
   "cell_type": "code",
   "execution_count": 33,
   "metadata": {},
   "outputs": [],
   "source": [
    "def get_logprob_diff_old(logits: jnp.ndarray, tokens: jnp.ndarray):\n",
    "    logprobs = jax.nn.log_softmax(logits, axis=-1)\n",
    "    \n",
    "    last_arrows = np.repeat(np.arange(tokens.shape[1])[None, :], tokens.shape[0], axis=0) * (tokens == 1599)\n",
    "    last_arrows = last_arrows.max(axis=-1)\n",
    "\n",
    "    answer_logprobs = jnp.take_along_axis(logprobs, last_arrows[:, None, None], axis=-1).squeeze()\n",
    "\n",
    "    target_tokens = jnp.take_along_axis(tokens, last_arrows[:, None], axis=-1).squeeze()\n",
    "    target_logprobs = jnp.take_along_axis(logprobs, target_tokens[:, None], axis=-1).squeeze()\n",
    "\n",
    "    return target_logprobs - answer_logprobs.max(axis=-1)\n"
   ]
  },
  {
   "cell_type": "code",
   "execution_count": 65,
   "metadata": {},
   "outputs": [],
   "source": [
    "prompt = \"<user>Follow the pattern\\n{}\""
   ]
  },
  {
   "cell_type": "code",
   "execution_count": 19,
   "metadata": {},
   "outputs": [],
   "source": [
    "inputs, tokenized = generate_task_inputs_old(\"antonyms\", 20, 12, 128, seed=1)       \n",
    "logits, resids = get_resids_call(inputs)\n",
    "tokens = tokenized[\"input_ids\"]\n",
    "\n",
    "logits = logits.unwrap(\"batch\", \"seq\", \"vocabulary\")\n"
   ]
  },
  {
   "cell_type": "code",
   "execution_count": 34,
   "metadata": {},
   "outputs": [],
   "source": [
    "dataset: ICLDataset = datasets_dict[\"antonyms\"]\n",
    "tokenized = tokenizer.batch_encode_plus(dataset.prompts, padding=\"longest\", max_length=128, truncation=True, return_tensors=\"np\")\n",
    "inputs = tokenized_to_inputs(\n",
    "    **tokenized\n",
    ")\n",
    "\n",
    "logits, resids = get_resids_call(inputs)\n",
    "\n",
    "tokens = tokenized[\"input_ids\"]"
   ]
  },
  {
   "cell_type": "code",
   "execution_count": 35,
   "metadata": {},
   "outputs": [],
   "source": [
    "def get_logprob_diff(logits: jnp.ndarray, completions: List[str], print_results=False):\n",
    "    logprobs = jax.nn.log_softmax(logits, axis=-1)\n",
    "    answer_logprobs = logprobs[:, -1]\n",
    "\n",
    "    target_tokens = [x[1] for x in tokenizer(completions)[\"input_ids\"]]\n",
    "    target_tokens = jnp.asarray(target_tokens)\n",
    "    target_logprobs = jnp.take_along_axis(answer_logprobs, target_tokens[:, None], axis=-1).squeeze()\n",
    "\n",
    "    if print_results:\n",
    "        print(\n",
    "            tokenizer.decode(answer_logprobs.argmax(axis=-1))\n",
    "        )\n",
    "\n",
    "        print(\n",
    "            tokenizer.decode(target_tokens)\n",
    "        )\n",
    "\n",
    "    return target_logprobs - answer_logprobs.max(axis=-1)\n"
   ]
  },
  {
   "cell_type": "code",
   "execution_count": 36,
   "metadata": {},
   "outputs": [
    {
     "name": "stdout",
     "output_type": "stream",
     "text": [
      "lost dead active far off fun small mismatch rural sharp weak h war retre cold wrong even stop bad rough\n",
      "lost dead active far off fun tiny sick rural sharp weak h war retre cold wrong even finish bad rough\n"
     ]
    },
    {
     "data": {
      "text/html": [
       "<div id=\"output_f404302a62a74679b30a3c428ab0e455\"><script> /* penzai.treescope rendering of a Python object (compressed) */ (()=>{ let observer; let lastStep = new Promise((resolve, reject) => { observer = new IntersectionObserver((entries) => { for (const entry of entries) { if (entry.isIntersecting) { resolve(); observer.disconnect(); return; } } }, {rootMargin: \"1000px\"}); }); window.treescope_decompress_enqueue = (encoded, destId) => { const previous = lastStep; const destElt = document.getElementById(destId); lastStep = (async () => { await previous; let blob = new Blob([ Uint8Array.from(atob(encoded), (m) => m.codePointAt(0)) ]); let reader = blob.stream().pipeThrough( new DecompressionStream(\"deflate\") ).pipeThrough( new TextDecoderStream(\"utf-8\") ).getReader(); let parts = []; while (true) { let step = await reader.read(); if (step.done) { break; } parts.push(step.value); } let newElt = document.createElement(\"div\"); newElt.innerHTML = parts.join(\"\"); destElt.parentNode.replaceChild(newElt, destElt); for (let oldScript of newElt.querySelectorAll(\"script\")) { let newScript = document.createElement(\"script\"); newScript.type = oldScript.type; newScript.textContent = oldScript.textContent; oldScript.parentNode.replaceChild(newScript, oldScript); } })(); requestAnimationFrame(() => { observer.observe(destElt); }); } })(); </script><div id=\"compress_html_de87ae35d4c247328592b6c420f100c5\"><script>window.treescope_decompress_enqueue(\"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\", \"compress_html_de87ae35d4c247328592b6c420f100c5\");</script><span style=\"color: #aaaaaa; font-family: monospace\">(Loading...)</span></div></div>"
      ],
      "text/plain": [
       "<IPython.core.display.HTML object>"
      ]
     },
     "metadata": {},
     "output_type": "display_data"
    },
    {
     "data": {
      "text/html": [
       "<div id=\"compress_html_4b76990fd2464cd28e3d477f32a11b44\"><script>window.treescope_decompress_enqueue(\"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\", \"compress_html_4b76990fd2464cd28e3d477f32a11b44\");</script></div>"
      ],
      "text/plain": [
       "<IPython.core.display.HTML object>"
      ]
     },
     "metadata": {},
     "output_type": "display_data"
    },
    {
     "data": {
      "text/html": [
       "<div id=\"output_dest_f404302a62a74679b30a3c428ab0e455\"><script> (()=>{ const output = document.getElementById(\"output_f404302a62a74679b30a3c428ab0e455\"); const dest = document.getElementById(\"output_dest_f404302a62a74679b30a3c428ab0e455\"); dest.parentNode.replaceChild(output, dest); })(); </script></div>"
      ],
      "text/plain": [
       "<jax.Array bfloat16(20,) ≈-0.45 ±1.6 [≥-7.5, ≤0.0] zero:17 nonzero:3\n",
       "  <Arrayviz rendering>\n",
       "  Sharded across 4 TPU devices (click to expand)\n",
       ">"
      ]
     },
     "execution_count": 36,
     "metadata": {},
     "output_type": "execute_result"
    }
   ],
   "source": [
    "\n",
    "\n",
    "get_logprob_diff(logits.unwrap(\"batch\", \"seq\", \"vocabulary\"), dataset.completions, print_results=True)"
   ]
  },
  {
   "cell_type": "code",
   "execution_count": 71,
   "metadata": {},
   "outputs": [
    {
     "name": "stderr",
     "output_type": "stream",
     "text": [
      "  0%|          | 0/1 [00:00<?, ?it/s]"
     ]
    },
    {
     "data": {
      "application/vnd.jupyter.widget-view+json": {
       "model_id": "73c7bb10a0684cb3b83bbfffbc1dea2b",
       "version_major": 2,
       "version_minor": 0
      },
      "text/plain": [
       "  0%|          | 0/1 [00:00<?, ?it/s]"
      ]
     },
     "metadata": {},
     "output_type": "display_data"
    },
    {
     "name": "stdout",
     "output_type": "stream",
     "text": [
      "j termin hab comenz perfect oficial min grupo di material cuatro simple tipo cal bu v son vida res región\n",
      "j termin hab com perfect oficial min grupo di material cuatro simple am cal bien vot son vida res región\n",
      "-0.00028801 0.96875\n",
      "['right ->', 'so ->', 'upon ->', 'practice ->', 'detail ->', 'financial ->', 'change ->', 'response ->', 'interesting ->', 'worry ->', 'money ->', 'hear ->', 'general ->', 'morning ->', 'government ->', 'course ->', 'letter ->', 'oil ->', 'future ->', 'kill ->'] ['derecho', 'entonces', 'al', 'práctica', 'detalle', 'financiero', 'cambio', 'respuesta', 'interesante', 'preocuparse', 'dinero', 'escuchar', 'general', 'mañana', 'gobierno', 'curso', 'carta', 'aceite', 'futuro', 'matar']\n"
     ]
    },
    {
     "name": "stderr",
     "output_type": "stream",
     "text": [
      "100%|██████████| 1/1 [00:05<00:00,  5.21s/it]"
     ]
    },
    {
     "name": "stdout",
     "output_type": "stream",
     "text": [
      "right s up pract det financi cambio res inter wor mon hear general ma gobierno cur letter oil fut kill\n",
      "dere entonces al pr det financi cambio res inter pre din esc general ma gobierno cur cart ace fut mat\n",
      "left so up practice detail financial ch question interesting wor money here general afternoon government courses number oil fut k\n",
      "dere entonces al pr det financi cambio res inter pre din esc general ma gobierno cur cart ace fut mat\n",
      "orig: [[Array([0, 0, 0, -3.5, 0, 0, 0, 0, 0, 0, 0, 0, -8.625, 0, -3.625, -4.5, 0,\n",
      "       0, 0, 0], dtype=bfloat16)], [Array([ True,  True,  True, False,  True,  True,  True,  True,  True,\n",
      "        True,  True,  True, False,  True, False, False,  True,  True,\n",
      "        True,  True], dtype=bool)]]\n",
      "zero: [[Array([-16.5, -13.25, -7.96875, -1.375, -3.10938, -2.25, -9.1875, -9.125,\n",
      "       -3.125, -10.6875, -9.125, -18.625, 0, -8.9375, -9.75, -7.625, -14,\n",
      "       -7.90625, 0, -11.6875], dtype=bfloat16)], [Array([False, False, False, False, False, False, False, False, False,\n",
      "       False, False, False,  True, False, False, False, False, False,\n",
      "        True, False], dtype=bool)]]\n",
      "added: [[Array([-1.74219, -5, -3.375, -2.625, 0, 0, 0, 0, 0, -3.0625, -1.75,\n",
      "       -1.63281, 0, 0, 0, 0, -8.125, -0.375, 0, -0.867188],      dtype=bfloat16)], [Array([False, False, False, False,  True,  True,  True,  True,  True,\n",
      "       False, False, False,  True,  True,  True,  True, False, False,\n",
      "        True, False], dtype=bool)]]\n",
      "orig: [-1.01562, 0.8]\n",
      "zero: [-8.1875, 0.1]\n",
      "added: [-1.42188, 0.5]\n"
     ]
    },
    {
     "name": "stderr",
     "output_type": "stream",
     "text": [
      "\n"
     ]
    }
   ],
   "source": [
    "\n",
    "task_names = [\n",
    "    \"en_es\"\n",
    "]\n",
    "layer = 17\n",
    "\n",
    "# n_few_shots, batch_size, max_seq_len = 64, 64, 512\n",
    "n_few_shots, batch_size, max_seq_len = 10, 20, 128\n",
    "for task in tqdm(task_names):\n",
    "    shot_logprobs_orig = [[] for _ in range(2)]\n",
    "    shot_logprobs_added = [[] for _ in range(2)]\n",
    "    shot_logprobs_zero = [[] for _ in range(2)]\n",
    "    for _ in trange(1):\n",
    "        pairs = tasks[task]\n",
    "        pairs = [list(x) for x in pairs.items()]\n",
    "        dataset = ICLDataset(pairs, size=batch_size, n_prepended=n_few_shots, bidirectional=False, seed=0)\n",
    "\n",
    "        tokenized = tokenizer.batch_encode_plus([prompt.format(x) for x in dataset.prompts], padding=\"longest\", max_length=max_seq_len, truncation=True, return_tensors=\"np\")\n",
    "        inputs = tokenized_to_inputs(\n",
    "            **tokenized\n",
    "        )\n",
    "        \n",
    "        logits, resids = get_resids_call(inputs)\n",
    "    \n",
    "        tokens = tokenized[\"input_ids\"]\n",
    "\n",
    "        shot_logprobs_orig[0].append(\n",
    "            get_logprob_diff(logits.unwrap(\"batch\", \"seq\", \"vocabulary\"), dataset.completions, print_results=True)\n",
    "        )\n",
    "\n",
    "        shot_logprobs_orig[1].append(\n",
    "            shot_logprobs_orig[0][-1] == 0.\n",
    "        )\n",
    "\n",
    "        mask = inputs.tokens == 1599\n",
    "        mask = mask.unwrap(\"batch\", \"seq\")\n",
    "\n",
    "        tv = resids[layer].value.unwrap(\"batch\", \"seq\", \"embedding\")[\n",
    "            mask\n",
    "        ]\n",
    "\n",
    "        tv = tv.mean(\n",
    "            axis=0\n",
    "        )\n",
    "\n",
    "        print(\n",
    "            tv.mean(), tv.std()\n",
    "        )\n",
    "\n",
    "        act_add = add_vector(\n",
    "            llama, tv, layer, scale=2.0, position=\"last\"\n",
    "        )\n",
    "\n",
    "        pairs = tasks[task]\n",
    "        pairs = [list(x) for x in pairs.items()]\n",
    "        dataset = ICLDataset(pairs, size=batch_size, n_prepended=0, bidirectional=False, seed=1)\n",
    "\n",
    "\n",
    "        print(\n",
    "            dataset.prompts, dataset.completions\n",
    "        )\n",
    "\n",
    "        tokenized = tokenizer.batch_encode_plus([prompt.format(x) for x in dataset.prompts], padding=\"longest\", max_length=max_seq_len, truncation=True, return_tensors=\"np\")\n",
    "        inputs = tokenized_to_inputs(\n",
    "            **tokenized\n",
    "        )\n",
    "\n",
    "        logits = act_add(inputs)\n",
    "\n",
    "        tokens = tokenized[\"input_ids\"]\n",
    "\n",
    "        shot_logprobs_added[0].append(\n",
    "            get_logprob_diff(logits.unwrap(\"batch\", \"seq\", \"vocabulary\"), dataset.completions, print_results=True)\n",
    "        )\n",
    "\n",
    "        shot_logprobs_added[1].append(\n",
    "            shot_logprobs_added[0][-1] == 0.\n",
    "        )\n",
    "\n",
    "        logits, _ = get_resids_call(inputs)\n",
    "        \n",
    "        shot_logprobs_zero[0].append(\n",
    "            get_logprob_diff(logits.unwrap(\"batch\", \"seq\", \"vocabulary\"), dataset.completions, print_results=True)\n",
    "        )\n",
    "\n",
    "        shot_logprobs_zero[1].append(\n",
    "            shot_logprobs_zero[0][-1] == 0.\n",
    "        )\n",
    "        \n",
    "    print(f\"orig: {shot_logprobs_orig}\")\n",
    "    print(f\"zero: {shot_logprobs_zero}\")\n",
    "    print(f\"added: {shot_logprobs_added}\")\n",
    "\n",
    "\n",
    "    shot_logprobs_orig = list(map(np.mean, shot_logprobs_orig))\n",
    "    shot_logprobs_zero = list(map(np.mean, shot_logprobs_zero))\n",
    "    shot_logprobs_added = list(map(np.mean, shot_logprobs_added))\n",
    "\n",
    "\n",
    "print(f\"orig: {shot_logprobs_orig}\")\n",
    "print(f\"zero: {shot_logprobs_zero}\")\n",
    "print(f\"added: {shot_logprobs_added}\")"
   ]
  },
  {
   "cell_type": "code",
   "execution_count": 72,
   "metadata": {},
   "outputs": [],
   "source": [
    "from micrlhf.utils.vector_storage import save_vector, load_vector\n",
    "\n",
    "\n",
    "save_vector(\n",
    "    \"data/vector_storage/antonyms\",\n",
    "    tv\n",
    ")"
   ]
  },
  {
   "cell_type": "code",
   "execution_count": 74,
   "metadata": {},
   "outputs": [
    {
     "data": {
      "text/html": [
       "<div id=\"output_835308085f2e40d7b2382a4fabf0db9d\"><script> /* penzai.treescope rendering of a Python object (compressed) */ (()=>{ let observer; let lastStep = new Promise((resolve, reject) => { observer = new IntersectionObserver((entries) => { for (const entry of entries) { if (entry.isIntersecting) { resolve(); observer.disconnect(); return; } } }, {rootMargin: \"1000px\"}); }); window.treescope_decompress_enqueue = (encoded, destId) => { const previous = lastStep; const destElt = document.getElementById(destId); lastStep = (async () => { await previous; let blob = new Blob([ Uint8Array.from(atob(encoded), (m) => m.codePointAt(0)) ]); let reader = blob.stream().pipeThrough( new DecompressionStream(\"deflate\") ).pipeThrough( new TextDecoderStream(\"utf-8\") ).getReader(); let parts = []; while (true) { let step = await reader.read(); if (step.done) { break; } parts.push(step.value); } let newElt = document.createElement(\"div\"); newElt.innerHTML = parts.join(\"\"); destElt.parentNode.replaceChild(newElt, destElt); for (let oldScript of newElt.querySelectorAll(\"script\")) { let newScript = document.createElement(\"script\"); newScript.type = oldScript.type; newScript.textContent = oldScript.textContent; oldScript.parentNode.replaceChild(newScript, oldScript); } })(); requestAnimationFrame(() => { observer.observe(destElt); }); } })(); </script><div id=\"compress_html_25e5401be86d42c1bf49977f801b8ef2\"><script>window.treescope_decompress_enqueue(\"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\", \"compress_html_25e5401be86d42c1bf49977f801b8ef2\");</script><span style=\"color: #aaaaaa; font-family: monospace\">(Loading...)</span></div></div>"
      ],
      "text/plain": [
       "<IPython.core.display.HTML object>"
      ]
     },
     "metadata": {},
     "output_type": "display_data"
    },
    {
     "data": {
      "text/html": [
       "<div id=\"compress_html_d92c909966fa4e30a22d35f714b8ceef\"><script>window.treescope_decompress_enqueue(\"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\", \"compress_html_d92c909966fa4e30a22d35f714b8ceef\");</script></div>"
      ],
      "text/plain": [
       "<IPython.core.display.HTML object>"
      ]
     },
     "metadata": {},
     "output_type": "display_data"
    },
    {
     "data": {
      "text/html": [
       "<div id=\"output_dest_835308085f2e40d7b2382a4fabf0db9d\"><script> (()=>{ const output = document.getElementById(\"output_835308085f2e40d7b2382a4fabf0db9d\"); const dest = document.getElementById(\"output_dest_835308085f2e40d7b2382a4fabf0db9d\"); dest.parentNode.replaceChild(output, dest); })(); </script></div>"
      ],
      "text/plain": [
       "<jax.Array bfloat16(3072,) ≈-0.00029 ±0.97 [≥-1.5e+01, ≤2.7e+01] nonzero:3_072\n",
       "  <Arrayviz rendering>\n",
       ">"
      ]
     },
     "execution_count": 74,
     "metadata": {},
     "output_type": "execute_result"
    }
   ],
   "source": [
    "load_vector(\n",
    "    \"data/vector_storage/antonyms\",\n",
    ")"
   ]
  },
  {
   "cell_type": "code",
   "execution_count": 75,
   "metadata": {},
   "outputs": [],
   "source": [
    "inputs, tokenized = generate_task_inputs_old(\"antonyms\", 20, 12, 128, seed=1)       \n",
    "logits, resids = get_resids_call(inputs)\n",
    "# tokens = tokenized[\"input_ids\"]\n",
    "\n",
    "# logits = logits.unwrap(\"batch\", \"seq\", \"vocabulary\")"
   ]
  },
  {
   "cell_type": "code",
   "execution_count": 77,
   "metadata": {},
   "outputs": [
    {
     "ename": "ValueError",
     "evalue": "Only NamedArray(View)s with no named axes can be converted to numpy arrays. Use `unwrap` or `untag` to assign positions to named axes first, or use `penzai.named_axes.nmap` with a JAX function instead.",
     "output_type": "error",
     "traceback": [
      "\u001b[0;31m---------------------------------------------------------------------------\u001b[0m",
      "\u001b[0;31mValueError\u001b[0m                                Traceback (most recent call last)",
      "Cell \u001b[0;32mIn[77], line 1\u001b[0m\n\u001b[0;32m----> 1\u001b[0m \u001b[43msave_vector\u001b[49m\u001b[43m(\u001b[49m\n\u001b[1;32m      2\u001b[0m \u001b[43m    \u001b[49m\u001b[38;5;124;43m\"\u001b[39;49m\u001b[38;5;124;43mdata/vector_storage/logits\u001b[39;49m\u001b[38;5;124;43m\"\u001b[39;49m\u001b[43m,\u001b[49m\n\u001b[1;32m      3\u001b[0m \u001b[43m    \u001b[49m\u001b[43mlogits\u001b[49m\n\u001b[1;32m      4\u001b[0m \u001b[43m)\u001b[49m\n",
      "File \u001b[0;32m~/micrlhf-progress/micrlhf/utils/vector_storage.py:29\u001b[0m, in \u001b[0;36msave_vector\u001b[0;34m(name, vector, overwrite)\u001b[0m\n\u001b[1;32m     26\u001b[0m     jnp\u001b[38;5;241m.\u001b[39msave(save_path, vector)\n\u001b[1;32m     28\u001b[0m \u001b[38;5;28;01melif\u001b[39;00m \u001b[38;5;28misinstance\u001b[39m(vector, pz\u001b[38;5;241m.\u001b[39mnx\u001b[38;5;241m.\u001b[39mNamedArray):\n\u001b[0;32m---> 29\u001b[0m     \u001b[43mjnp\u001b[49m\u001b[38;5;241;43m.\u001b[39;49m\u001b[43msave\u001b[49m\u001b[43m(\u001b[49m\u001b[43msave_path\u001b[49m\u001b[43m,\u001b[49m\u001b[43m \u001b[49m\u001b[43mvector\u001b[49m\u001b[43m)\u001b[49m\n",
      "File \u001b[0;32m~/.cache/pypoetry/virtualenvs/micrlhf-progress-_SD4q1c9-py3.12/lib/python3.12/site-packages/numpy/lib/npyio.py:545\u001b[0m, in \u001b[0;36msave\u001b[0;34m(file, arr, allow_pickle, fix_imports)\u001b[0m\n\u001b[1;32m    542\u001b[0m     file_ctx \u001b[38;5;241m=\u001b[39m \u001b[38;5;28mopen\u001b[39m(file, \u001b[38;5;124m\"\u001b[39m\u001b[38;5;124mwb\u001b[39m\u001b[38;5;124m\"\u001b[39m)\n\u001b[1;32m    544\u001b[0m \u001b[38;5;28;01mwith\u001b[39;00m file_ctx \u001b[38;5;28;01mas\u001b[39;00m fid:\n\u001b[0;32m--> 545\u001b[0m     arr \u001b[38;5;241m=\u001b[39m \u001b[43mnp\u001b[49m\u001b[38;5;241;43m.\u001b[39;49m\u001b[43masanyarray\u001b[49m\u001b[43m(\u001b[49m\u001b[43marr\u001b[49m\u001b[43m)\u001b[49m\n\u001b[1;32m    546\u001b[0m     \u001b[38;5;28mformat\u001b[39m\u001b[38;5;241m.\u001b[39mwrite_array(fid, arr, allow_pickle\u001b[38;5;241m=\u001b[39mallow_pickle,\n\u001b[1;32m    547\u001b[0m                        pickle_kwargs\u001b[38;5;241m=\u001b[39m\u001b[38;5;28mdict\u001b[39m(fix_imports\u001b[38;5;241m=\u001b[39mfix_imports))\n",
      "File \u001b[0;32m~/.cache/pypoetry/virtualenvs/micrlhf-progress-_SD4q1c9-py3.12/lib/python3.12/site-packages/penzai/core/named_axes.py:874\u001b[0m, in \u001b[0;36mNamedArrayBase.__array__\u001b[0;34m(self, *args, **kwargs)\u001b[0m\n\u001b[1;32m    872\u001b[0m \u001b[38;5;250m\u001b[39m\u001b[38;5;124;03m\"\"\"Converts a named array with no named axes to a Numpy array.\"\"\"\u001b[39;00m\n\u001b[1;32m    873\u001b[0m \u001b[38;5;28;01mif\u001b[39;00m \u001b[38;5;28mself\u001b[39m\u001b[38;5;241m.\u001b[39mnamed_shape:\n\u001b[0;32m--> 874\u001b[0m   \u001b[38;5;28;01mraise\u001b[39;00m \u001b[38;5;167;01mValueError\u001b[39;00m(\n\u001b[1;32m    875\u001b[0m       \u001b[38;5;124m\"\u001b[39m\u001b[38;5;124mOnly NamedArray(View)s with no named axes can be converted to numpy\u001b[39m\u001b[38;5;124m\"\u001b[39m\n\u001b[1;32m    876\u001b[0m       \u001b[38;5;124m\"\u001b[39m\u001b[38;5;124m arrays. Use `unwrap` or `untag` to assign positions to named axes\u001b[39m\u001b[38;5;124m\"\u001b[39m\n\u001b[1;32m    877\u001b[0m       \u001b[38;5;124m\"\u001b[39m\u001b[38;5;124m first, or use `penzai.named_axes.nmap` with a JAX function instead.\u001b[39m\u001b[38;5;124m\"\u001b[39m\n\u001b[1;32m    878\u001b[0m   )\n\u001b[1;32m    879\u001b[0m \u001b[38;5;28;01melse\u001b[39;00m:\n\u001b[1;32m    880\u001b[0m   \u001b[38;5;28;01mreturn\u001b[39;00m np\u001b[38;5;241m.\u001b[39marray(\u001b[38;5;28mself\u001b[39m\u001b[38;5;241m.\u001b[39munwrap(), \u001b[38;5;241m*\u001b[39margs, \u001b[38;5;241m*\u001b[39m\u001b[38;5;241m*\u001b[39mkwargs)\n",
      "\u001b[0;31mValueError\u001b[0m: Only NamedArray(View)s with no named axes can be converted to numpy arrays. Use `unwrap` or `untag` to assign positions to named axes first, or use `penzai.named_axes.nmap` with a JAX function instead."
     ]
    }
   ],
   "source": [
    "save_vector(\n",
    "    \"data/vector_storage/logits\",\n",
    "    logits\n",
    ")"
   ]
  },
  {
   "cell_type": "code",
   "execution_count": 78,
   "metadata": {},
   "outputs": [
    {
     "data": {
      "text/html": [
       "<div id=\"output_643841404088423d8d80435788dbced2\"><script> /* penzai.treescope rendering of a Python object (compressed) */ (()=>{ let observer; let lastStep = new Promise((resolve, reject) => { observer = new IntersectionObserver((entries) => { for (const entry of entries) { if (entry.isIntersecting) { resolve(); observer.disconnect(); return; } } }, {rootMargin: \"1000px\"}); }); window.treescope_decompress_enqueue = (encoded, destId) => { const previous = lastStep; const destElt = document.getElementById(destId); lastStep = (async () => { await previous; let blob = new Blob([ Uint8Array.from(atob(encoded), (m) => m.codePointAt(0)) ]); let reader = blob.stream().pipeThrough( new DecompressionStream(\"deflate\") ).pipeThrough( new TextDecoderStream(\"utf-8\") ).getReader(); let parts = []; while (true) { let step = await reader.read(); if (step.done) { break; } parts.push(step.value); } let newElt = document.createElement(\"div\"); newElt.innerHTML = parts.join(\"\"); destElt.parentNode.replaceChild(newElt, destElt); for (let oldScript of newElt.querySelectorAll(\"script\")) { let newScript = document.createElement(\"script\"); newScript.type = oldScript.type; newScript.textContent = oldScript.textContent; oldScript.parentNode.replaceChild(newScript, oldScript); } })(); requestAnimationFrame(() => { observer.observe(destElt); }); } })(); </script><div id=\"compress_html_df5c55a63b694715b76e73823067047f\"><script>window.treescope_decompress_enqueue(\"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\", \"compress_html_df5c55a63b694715b76e73823067047f\");</script><span style=\"color: #aaaaaa; font-family: monospace\">(Loading...)</span></div></div>"
      ],
      "text/plain": [
       "<IPython.core.display.HTML object>"
      ]
     },
     "metadata": {},
     "output_type": "display_data"
    },
    {
     "data": {
      "text/html": [
       "<div id=\"compress_html_240697b684744a409bcc0ed2deda2163\"><script>window.treescope_decompress_enqueue(\"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\", \"compress_html_240697b684744a409bcc0ed2deda2163\");</script></div>"
      ],
      "text/plain": [
       "<IPython.core.display.HTML object>"
      ]
     },
     "metadata": {},
     "output_type": "display_data"
    },
    {
     "data": {
      "text/html": [
       "<div id=\"output_dest_643841404088423d8d80435788dbced2\"><script> (()=>{ const output = document.getElementById(\"output_643841404088423d8d80435788dbced2\"); const dest = document.getElementById(\"output_dest_643841404088423d8d80435788dbced2\"); dest.parentNode.replaceChild(output, dest); })(); </script></div>"
      ],
      "text/plain": [
       "<NamedArray bfloat16(| batch:12, seq:111, vocabulary:32064) ≈2.3 ±3.7 [≥-2.2e+01, ≤4.3e+01] zero:78_588 nonzero:42_630_660 (wrapping jax.Array)\n",
       "  <Arrayviz rendering>\n",
       "  Sharded across 4 TPU devices (click to expand)\n",
       ">"
      ]
     },
     "execution_count": 78,
     "metadata": {},
     "output_type": "execute_result"
    }
   ],
   "source": [
    "logits"
   ]
  }
 ],
 "metadata": {
  "kernelspec": {
   "display_name": "micrlhf-progress-a058ydGG-py3.12",
   "language": "python",
   "name": "python3"
  },
  "language_info": {
   "codemirror_mode": {
    "name": "ipython",
    "version": 3
   },
   "file_extension": ".py",
   "mimetype": "text/x-python",
   "name": "python",
   "nbconvert_exporter": "python",
   "pygments_lexer": "ipython3",
   "version": "3.12.3"
  }
 },
 "nbformat": 4,
 "nbformat_minor": 2
}
